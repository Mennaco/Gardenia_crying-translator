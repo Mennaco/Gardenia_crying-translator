{
 "cells": [
  {
   "cell_type": "code",
   "execution_count": null,
   "id": "07f661ea",
   "metadata": {},
   "outputs": [],
   "source": [
    "import os\n",
    "import librosa\n",
    "import librosa.display\n",
    "import pandas as pd\n",
    "import numpy as np\n",
    "import matplotlib.pyplot as plt\n",
    "import seaborn as sns\n",
    "from sklearn.preprocessing import LabelEncoder\n",
    "from sklearn.decomposition import PCA\n",
    "from sklearn.manifold import TSNE\n",
    "from sklearn.cluster import KMeans, AgglomerativeClustering, DBSCAN, MeanShift\n",
    "from sklearn.metrics import accuracy_score, log_loss, confusion_matrix, silhouette_score\n",
    "import IPython.display as ipd\n",
    "import plotly.express as px\n",
    "import plotly.graph_objs as go\n",
    "from sklearn.impute import KNNImputer\n",
    "from tqdm import tqdm\n",
    "import warnings\n",
    "import scipy.cluster.hierarchy as shc\n",
    "from plotly.offline import init_notebook_mode"
   ]
  },
  {
   "cell_type": "code",
   "execution_count": null,
   "id": "f2b568ab",
   "metadata": {},
   "outputs": [],
   "source": [
    "tqdm.pandas()\n",
    "warnings.filterwarnings(\"ignore\")\n",
    "sns.set_style(\"darkgrid\")\n",
    "plt.rcParams['figure.figsize'] = (20,8)\n",
    "plt.rcParams['font.size'] = 16\n",
    "init_notebook_mode(connected=True)"
   ]
  },
  {
   "cell_type": "code",
   "execution_count": null,
   "id": "6eebbb92",
   "metadata": {},
   "outputs": [],
   "source": [
    "directory = 'sounds/crying'"
   ]
  },
  {
   "cell_type": "code",
   "execution_count": null,
   "id": "1ebc5342",
   "metadata": {},
   "outputs": [],
   "source": [
    "data = pd.read_csv(\"model2.csv\")\n",
    "data"
   ]
  },
  {
   "cell_type": "code",
   "execution_count": null,
   "id": "d85990c6",
   "metadata": {},
   "outputs": [],
   "source": [
    "#data['file_id']+='.mp3'\n",
    "data['voice_id'] = data['voice_id'].apply(lambda x: os.path.join(directory,x))\n",
    "data"
   ]
  },
  {
   "cell_type": "code",
   "execution_count": null,
   "id": "c9a38c2a",
   "metadata": {},
   "outputs": [],
   "source": [
    "sns.countplot(data['reason'])\n",
    "plt.show()"
   ]
  },
  {
   "cell_type": "code",
   "execution_count": null,
   "id": "1fdb70d4",
   "metadata": {},
   "outputs": [],
   "source": [
    "plt.close()"
   ]
  },
  {
   "cell_type": "code",
   "execution_count": null,
   "id": "87e6cfac",
   "metadata": {},
   "outputs": [],
   "source": []
  },
  {
   "cell_type": "code",
   "execution_count": null,
   "id": "b50c81f9",
   "metadata": {},
   "outputs": [],
   "source": []
  },
  {
   "cell_type": "code",
   "execution_count": null,
   "id": "9db52f1a",
   "metadata": {},
   "outputs": [],
   "source": [
    "def zcr_plot(path, target):\n",
    "    x , sr = librosa.load(path)\n",
    "    zero_crossings = librosa.zero_crossings(x)\n",
    "    print(\"Sum of zero crossing \", zero_crossings.sum())\n",
    "    plt.title('Zero Crossing Rate of reason: '+target)\n",
    "    zcrs = librosa.feature.zero_crossing_rate(x)\n",
    "    plt.plot(zcrs[0])\n",
    "    plt.show()"
   ]
  },
  {
   "cell_type": "code",
   "execution_count": null,
   "id": "2ebc3282",
   "metadata": {},
   "outputs": [],
   "source": []
  },
  {
   "cell_type": "code",
   "execution_count": null,
   "id": "4fc6dc53",
   "metadata": {},
   "outputs": [],
   "source": [
    "hungery = data[data['reason']=='hungery'].sample(1).iloc[0].voice_id\n",
    "lonely = data[data['reason']=='lonely'].sample(1).iloc[0].voice_id\n",
    "discomfortable = data[data['reason']=='discomfortable'].sample(1).iloc[0].voice_id\n",
    "tired = data[data['reason']=='tired'].sample(1).iloc[0].voice_id\n",
    "scared = data[data['reason']=='scared'].sample(1).iloc[0].voice_id\n",
    "colic = data[data['reason']=='colic'].sample(1).iloc[0].voice_id\n",
    "sleepy = data[data['reason']=='sleepy'].sample(1).iloc[0].voice_id"
   ]
  },
  {
   "cell_type": "code",
   "execution_count": null,
   "id": "f0439503",
   "metadata": {},
   "outputs": [],
   "source": [
    "ipd.Audio(hungery)"
   ]
  },
  {
   "cell_type": "code",
   "execution_count": null,
   "id": "2eeddbf4",
   "metadata": {},
   "outputs": [],
   "source": [
    "zcr_plot(hungery, 'hungery')"
   ]
  },
  {
   "cell_type": "code",
   "execution_count": null,
   "id": "f81653be",
   "metadata": {},
   "outputs": [],
   "source": [
    "plt.close()"
   ]
  },
  {
   "cell_type": "code",
   "execution_count": null,
   "id": "93db900b",
   "metadata": {},
   "outputs": [],
   "source": [
    "zcr_plot(colic, 'pained')"
   ]
  },
  {
   "cell_type": "code",
   "execution_count": null,
   "id": "18a899aa",
   "metadata": {},
   "outputs": [],
   "source": [
    "plt.close()"
   ]
  },
  {
   "cell_type": "code",
   "execution_count": null,
   "id": "d700c407",
   "metadata": {},
   "outputs": [],
   "source": [
    "zcr_plot(discomfortable, 'discompfortable')"
   ]
  },
  {
   "cell_type": "code",
   "execution_count": null,
   "id": "f52cd7c9",
   "metadata": {},
   "outputs": [],
   "source": [
    "plt.close()"
   ]
  },
  {
   "cell_type": "code",
   "execution_count": null,
   "id": "76744f0d",
   "metadata": {},
   "outputs": [],
   "source": [
    "zcr_plot(lonely, 'bored')"
   ]
  },
  {
   "cell_type": "code",
   "execution_count": null,
   "id": "52638d1e",
   "metadata": {},
   "outputs": [],
   "source": [
    "plt.close()"
   ]
  },
  {
   "cell_type": "code",
   "execution_count": null,
   "id": "4312fa33",
   "metadata": {},
   "outputs": [],
   "source": [
    "zcr_plot(tired, 'tired')"
   ]
  },
  {
   "cell_type": "code",
   "execution_count": null,
   "id": "358e701f",
   "metadata": {},
   "outputs": [],
   "source": [
    "plt.close()"
   ]
  },
  {
   "cell_type": "code",
   "execution_count": null,
   "id": "d43b27be",
   "metadata": {},
   "outputs": [],
   "source": [
    "zcr_plot(sleepy, 'sleepy')"
   ]
  },
  {
   "cell_type": "code",
   "execution_count": null,
   "id": "e214111c",
   "metadata": {},
   "outputs": [],
   "source": [
    "plt.close()"
   ]
  },
  {
   "cell_type": "code",
   "execution_count": null,
   "id": "e19ad829",
   "metadata": {},
   "outputs": [],
   "source": [
    "zcr_plot(scared, 'scared')"
   ]
  },
  {
   "cell_type": "code",
   "execution_count": null,
   "id": "4d5cc51c",
   "metadata": {},
   "outputs": [],
   "source": [
    "plt.close()"
   ]
  },
  {
   "cell_type": "code",
   "execution_count": null,
   "id": "a799ed58",
   "metadata": {},
   "outputs": [],
   "source": [
    "def get_zcrs(path):\n",
    "    zcrs = []\n",
    "    try:\n",
    "        x , sr = librosa.load(path)#, res_type='kaiser_fast'\n",
    "        zcrs = librosa.feature.zero_crossing_rate(x)[0]\n",
    "    except:\n",
    "        pass\n",
    "    return zcrs"
   ]
  },
  {
   "cell_type": "code",
   "execution_count": null,
   "id": "1f509530",
   "metadata": {},
   "outputs": [],
   "source": [
    "x , sr = librosa.load(data['voice_id'][1])\n",
    "zcrs = librosa.feature.zero_crossing_rate(x)[0]\n",
    "zcrs"
   ]
  },
  {
   "cell_type": "code",
   "execution_count": null,
   "id": "61a71587",
   "metadata": {},
   "outputs": [],
   "source": [
    "get_zcrs(data['voice_id'][1])"
   ]
  },
  {
   "cell_type": "code",
   "execution_count": null,
   "id": "76e0aea9",
   "metadata": {},
   "outputs": [],
   "source": [
    "X = pd.DataFrame(data['voice_id'].progress_apply(lambda x: get_zcrs(x)).tolist())"
   ]
  },
  {
   "cell_type": "code",
   "execution_count": null,
   "id": "7396d785",
   "metadata": {},
   "outputs": [],
   "source": [
    "X"
   ]
  },
  {
   "cell_type": "code",
   "execution_count": null,
   "id": "77157c24",
   "metadata": {},
   "outputs": [],
   "source": [
    "X_knn_ip = X.copy()\n",
    "X_zero_ip = X.copy()"
   ]
  },
  {
   "cell_type": "code",
   "execution_count": null,
   "id": "718cffdf",
   "metadata": {},
   "outputs": [],
   "source": [
    "X.isnull().sum()"
   ]
  },
  {
   "cell_type": "code",
   "execution_count": null,
   "id": "1d98b4f2",
   "metadata": {},
   "outputs": [],
   "source": [
    "X_zero_ip"
   ]
  },
  {
   "cell_type": "code",
   "execution_count": null,
   "id": "a8d9cd58",
   "metadata": {},
   "outputs": [],
   "source": [
    "imputer = KNNImputer(n_neighbors=5)\n",
    "X_zero_ip.fillna(value=0,inplace=True)\n",
    "X_knn_ip = imputer.fit_transform(X_knn_ip)\n",
    "X_knn_ip = pd.DataFrame(X_knn_ip)\n",
    "\n",
    "y = data['reason']"
   ]
  },
  {
   "cell_type": "code",
   "execution_count": null,
   "id": "2f99d0a1",
   "metadata": {},
   "outputs": [],
   "source": [
    "sns.heatmap(X_zero_ip.corr())\n",
    "plt.title(\"Correlation Heatmap for Zero Imputed Data\")\n",
    "plt.show()"
   ]
  },
  {
   "cell_type": "code",
   "execution_count": null,
   "id": "1a313c53",
   "metadata": {},
   "outputs": [],
   "source": [
    "plt.close()"
   ]
  },
  {
   "cell_type": "code",
   "execution_count": null,
   "id": "24eddd48",
   "metadata": {},
   "outputs": [],
   "source": [
    "sns.heatmap(X_knn_ip.corr())\n",
    "plt.title(\"Correlation Heatmap for KNN Imputed Data\")\n",
    "plt.show()"
   ]
  },
  {
   "cell_type": "code",
   "execution_count": null,
   "id": "4087e024",
   "metadata": {},
   "outputs": [],
   "source": [
    "plt.close()"
   ]
  },
  {
   "cell_type": "code",
   "execution_count": null,
   "id": "ce48c47d",
   "metadata": {},
   "outputs": [],
   "source": [
    "def PrincipalComponentsAnalysis(X):\n",
    "    pca = PCA()\n",
    "    X_pca = pca.fit_transform(X)\n",
    "    variance_explained = np.cumsum(pca.explained_variance_ratio_)\n",
    "    pcs = range(1,len(variance_explained)+1)\n",
    "    fig = px.line(x = pcs, y = variance_explained, title = 'Principal Components Cumulative Explained Variance', height=600, \n",
    "                  labels={\n",
    "                         \"x\": \"Principal Components\",\n",
    "                         \"y\": \"Explained Variance\"})\n",
    "    fig.show()\n",
    "    \n",
    "    return X_pca\n",
    "\n",
    "\n",
    "def kmeans_wcss(X,clusters):\n",
    "    opt_val = []\n",
    "    for i in range(1, clusters+1):\n",
    "        kmeans = KMeans(n_clusters = i, init = 'k-means++', random_state = 42)\n",
    "        kmeans.fit(X)\n",
    "        opt_val.append(kmeans.inertia_)\n",
    "        \n",
    "    fig = px.line(x = range(1, clusters+1), y = opt_val, title = 'KMeans Elbow Method', height=600,  labels={\n",
    "                     \"x\": \"Number of Clusters\",\n",
    "                     \"y\": \"WCSS\"})\n",
    "    fig.show()\n",
    "    \n"
   ]
  },
  {
   "cell_type": "code",
   "execution_count": null,
   "id": "b549876d",
   "metadata": {},
   "outputs": [],
   "source": [
    "X_pcs_1 = PrincipalComponentsAnalysis(X_zero_ip)"
   ]
  },
  {
   "cell_type": "code",
   "execution_count": null,
   "id": "1c6ca96a",
   "metadata": {},
   "outputs": [],
   "source": [
    "plt.close()"
   ]
  },
  {
   "cell_type": "code",
   "execution_count": null,
   "id": "cea3507b",
   "metadata": {},
   "outputs": [],
   "source": [
    "kmeans_wcss(X_pcs_1[:,:3],10)"
   ]
  },
  {
   "cell_type": "code",
   "execution_count": null,
   "id": "39d6a711",
   "metadata": {},
   "outputs": [],
   "source": [
    "kmeans = KMeans(n_clusters = 7, init = 'k-means++', random_state = 42)\n",
    "kmeans.fit(X_pcs_1[:,:3])\n",
    "y_label = kmeans.predict(X_pcs_1[:,:3])\n",
    "\n",
    "Cluster3D(X_pcs_1,y_label)\n",
    "print(\"Silhouette Score:\\t\",silhouette_score(X_pcs_1[:,:3], y_label))"
   ]
  },
  {
   "cell_type": "code",
   "execution_count": null,
   "id": "3c0f8b7a",
   "metadata": {},
   "outputs": [],
   "source": [
    "X_zero_ip"
   ]
  },
  {
   "cell_type": "code",
   "execution_count": null,
   "id": "70a008fe",
   "metadata": {},
   "outputs": [],
   "source": [
    "X_zero_ip.iloc[:,:-1]"
   ]
  },
  {
   "cell_type": "code",
   "execution_count": null,
   "id": "9102f5d8",
   "metadata": {},
   "outputs": [],
   "source": []
  }
 ],
 "metadata": {
  "kernelspec": {
   "display_name": "Python 3",
   "language": "python",
   "name": "python3"
  },
  "language_info": {
   "codemirror_mode": {
    "name": "ipython",
    "version": 3
   },
   "file_extension": ".py",
   "mimetype": "text/x-python",
   "name": "python",
   "nbconvert_exporter": "python",
   "pygments_lexer": "ipython3",
   "version": "3.8.8"
  }
 },
 "nbformat": 4,
 "nbformat_minor": 5
}
